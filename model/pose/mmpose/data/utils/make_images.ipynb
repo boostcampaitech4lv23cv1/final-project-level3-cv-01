{
 "cells": [
  {
   "attachments": {},
   "cell_type": "markdown",
   "metadata": {},
   "source": [
    "# 면접 특성 상 정면 / 위 / 아래 각도가 나올 가능성이 왼쪽 / 아래쪽 가능성보다 월등히 높다\n"
   ]
  },
  {
   "attachments": {},
   "cell_type": "markdown",
   "metadata": {},
   "source": [
    "# 손의 움직임이 있는 대략 20~110프레임 정도만 사용"
   ]
  },
  {
   "cell_type": "code",
   "execution_count": 35,
   "metadata": {},
   "outputs": [],
   "source": [
    "import cv2\n",
    "import os\n",
    "from tqdm import tqdm"
   ]
  },
  {
   "cell_type": "code",
   "execution_count": 36,
   "metadata": {},
   "outputs": [
    {
     "data": {
      "text/plain": [
       "2748"
      ]
     },
     "execution_count": 36,
     "metadata": {},
     "output_type": "execute_result"
    }
   ],
   "source": [
    "videos=sorted(os.listdir('../aihub_real2/videos'))\n",
    "vid_names = [video.split('.')[0] for video in videos]\n",
    "front_up_down_video_names = [vid_name for vid_name in vid_names if vid_name[-1] in (\"D\",\"F\",\"U\")]\n",
    "len(front_up_down_video_names)"
   ]
  },
  {
   "cell_type": "code",
   "execution_count": 37,
   "metadata": {},
   "outputs": [
    {
     "ename": "FileNotFoundError",
     "evalue": "[Errno 2] No such file or directory: '../aihub_real2/annotations/NIA_SL_SEN1100_REAL06_D'",
     "output_type": "error",
     "traceback": [
      "\u001b[0;31m---------------------------------------------------------------------------\u001b[0m",
      "\u001b[0;31mFileNotFoundError\u001b[0m                         Traceback (most recent call last)",
      "\u001b[1;32m/Users/yoonjaecho/Downloads/utils/make_images.ipynb 셀 5\u001b[0m in \u001b[0;36m<cell line: 2>\u001b[0;34m()\u001b[0m\n\u001b[1;32m      <a href='vscode-notebook-cell:/Users/yoonjaecho/Downloads/utils/make_images.ipynb#W6sZmlsZQ%3D%3D?line=0'>1</a>\u001b[0m front_up_down_video_annotations\u001b[39m=\u001b[39m\u001b[39m0\u001b[39m\n\u001b[1;32m      <a href='vscode-notebook-cell:/Users/yoonjaecho/Downloads/utils/make_images.ipynb#W6sZmlsZQ%3D%3D?line=1'>2</a>\u001b[0m \u001b[39mfor\u001b[39;00m front_up_down_video_name \u001b[39min\u001b[39;00m front_up_down_video_names[:\u001b[39m210\u001b[39m]:\n\u001b[0;32m----> <a href='vscode-notebook-cell:/Users/yoonjaecho/Downloads/utils/make_images.ipynb#W6sZmlsZQ%3D%3D?line=2'>3</a>\u001b[0m     front_up_down_video_annotations \u001b[39m+\u001b[39m\u001b[39m=\u001b[39m \u001b[39mlen\u001b[39m(os\u001b[39m.\u001b[39;49mlistdir(\u001b[39mf\u001b[39;49m\u001b[39m'\u001b[39;49m\u001b[39m../aihub_real2/annotations/\u001b[39;49m\u001b[39m{\u001b[39;49;00mfront_up_down_video_name\u001b[39m}\u001b[39;49;00m\u001b[39m'\u001b[39;49m))\n\u001b[1;32m      <a href='vscode-notebook-cell:/Users/yoonjaecho/Downloads/utils/make_images.ipynb#W6sZmlsZQ%3D%3D?line=3'>4</a>\u001b[0m front_up_down_video_annotations\n",
      "\u001b[0;31mFileNotFoundError\u001b[0m: [Errno 2] No such file or directory: '../aihub_real2/annotations/NIA_SL_SEN1100_REAL06_D'"
     ]
    }
   ],
   "source": [
    "front_up_down_video_annotations=0\n",
    "for front_up_down_video_name in front_up_down_video_names[:210]:\n",
    "    front_up_down_video_annotations += len(os.listdir(f'../aihub_real2/annotations/{front_up_down_video_name}'))\n",
    "front_up_down_video_annotations"
   ]
  },
  {
   "cell_type": "code",
   "execution_count": 38,
   "metadata": {},
   "outputs": [],
   "source": [
    "hand_indexes=range(20,111)\n",
    "def video_to_frames(vid_name):\n",
    "    # Open the video\n",
    "    video = cv2.VideoCapture(os.path.join(\"../aihub_real2/videos\",vid_name +\".mp4\"))\n",
    "\n",
    "    # Get the total number of frames\n",
    "    total_frames = int(video.get(cv2.CAP_PROP_FRAME_COUNT))\n",
    "\n",
    "    # Iterate through each frame\n",
    "    for i in range(total_frames):\n",
    "        # Read the frame\n",
    "        ret, frame = video.read()\n",
    "        if not ret:\n",
    "            break\n",
    "        if i in hand_indexes:\n",
    "        # Save the frame as an image\n",
    "            cv2.imwrite(os.path.join(\"../images\",vid_name, vid_name + \"_\" + str(i).zfill(12) + \".jpg\"), frame)\n",
    "\n",
    "    # Release the video\n",
    "    video.release()"
   ]
  },
  {
   "cell_type": "code",
   "execution_count": 39,
   "metadata": {},
   "outputs": [
    {
     "name": "stderr",
     "output_type": "stream",
     "text": [
      "100%|██████████| 210/210 [10:14<00:00,  2.93s/it]\n"
     ]
    }
   ],
   "source": [
    "for front_up_down_video_name in tqdm(front_up_down_video_names[:210]):\n",
    "    os.makedirs(f\"../images/{front_up_down_video_name}\", exist_ok=True)\n",
    "    video_to_frames(front_up_down_video_name)"
   ]
  },
  {
   "cell_type": "code",
   "execution_count": 32,
   "metadata": {},
   "outputs": [
    {
     "name": "stdout",
     "output_type": "stream",
     "text": [
      "False\n"
     ]
    }
   ],
   "source": [
    "up_down_front = [\"U\",\"D\",\"F\"]\n",
    "if all([ann_folder[-1] for ann_folder in os.listdir(\"../aihub_real2/annotations\")]) in up_down_front:\n",
    "    print(True)\n",
    "else:\n",
    "    print(False)"
   ]
  },
  {
   "cell_type": "code",
   "execution_count": null,
   "metadata": {},
   "outputs": [],
   "source": []
  }
 ],
 "metadata": {
  "kernelspec": {
   "display_name": "base",
   "language": "python",
   "name": "python3"
  },
  "language_info": {
   "codemirror_mode": {
    "name": "ipython",
    "version": 3
   },
   "file_extension": ".py",
   "mimetype": "text/x-python",
   "name": "python",
   "nbconvert_exporter": "python",
   "pygments_lexer": "ipython3",
   "version": "3.8.5 (default, Sep  4 2020, 07:30:14) \n[GCC 7.3.0]"
  },
  "orig_nbformat": 4,
  "vscode": {
   "interpreter": {
    "hash": "6e5262017548a2b455e3c33d8630dbac676c51a278f558e9b73cd2cf5fc8a1af"
   }
  }
 },
 "nbformat": 4,
 "nbformat_minor": 2
}
