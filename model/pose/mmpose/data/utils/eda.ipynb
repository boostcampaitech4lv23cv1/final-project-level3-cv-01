{
 "cells": [
  {
   "cell_type": "code",
   "execution_count": 1,
   "metadata": {},
   "outputs": [],
   "source": [
    "import os\n",
    "import cv2"
   ]
  },
  {
   "cell_type": "code",
   "execution_count": 2,
   "metadata": {},
   "outputs": [],
   "source": [
    "folder_names = (\"aihub_real1\",\"aihub_real2\")"
   ]
  },
  {
   "cell_type": "code",
   "execution_count": 3,
   "metadata": {},
   "outputs": [],
   "source": [
    "ann_folders = [os.listdir(f'../{folder_name}/annotations') for folder_name in folder_names]"
   ]
  },
  {
   "cell_type": "code",
   "execution_count": 4,
   "metadata": {},
   "outputs": [
    {
     "data": {
      "text/plain": [
       "1085613"
      ]
     },
     "execution_count": 4,
     "metadata": {},
     "output_type": "execute_result"
    }
   ],
   "source": [
    "real_anns=0\n",
    "for ann_folder in ann_folders[1]:\n",
    "        if ann_folder.endswith('F') or ann_folder.endswith(\"U\") or ann_folder.endswith(\"D\"):\n",
    "            real_anns += len(os.listdir(f\"../{folder_names[1]}/annotations/{ann_folder}\"))\n",
    "real_anns"
   ]
  },
  {
   "cell_type": "code",
   "execution_count": 5,
   "metadata": {},
   "outputs": [
    {
     "data": {
      "text/plain": [
       "1100088"
      ]
     },
     "execution_count": 5,
     "metadata": {},
     "output_type": "execute_result"
    }
   ],
   "source": [
    "all_anns = 0\n",
    "for i in range(len(folder_names)):\n",
    "    for ann_folder in ann_folders[i]:\n",
    "        if ann_folder.endswith('F') or ann_folder.endswith(\"U\") or ann_folder.endswith(\"D\"):\n",
    "            all_anns += len(os.listdir(f\"../{folder_names[i]}/annotations/{ann_folder}\"))\n",
    "all_anns"
   ]
  },
  {
   "cell_type": "code",
   "execution_count": 11,
   "metadata": {},
   "outputs": [
    {
     "ename": "FileNotFoundError",
     "evalue": "[Errno 2] No such file or directory: '../aihub_real1/videos'",
     "output_type": "error",
     "traceback": [
      "\u001b[0;31m---------------------------------------------------------------------------\u001b[0m",
      "\u001b[0;31mFileNotFoundError\u001b[0m                         Traceback (most recent call last)",
      "\u001b[1;32m/Users/yoonjaecho/Downloads/images/eda.ipynb 셀 5\u001b[0m in \u001b[0;36m<cell line: 1>\u001b[0;34m()\u001b[0m\n\u001b[0;32m----> <a href='vscode-notebook-cell:/Users/yoonjaecho/Downloads/images/eda.ipynb#W6sZmlsZQ%3D%3D?line=0'>1</a>\u001b[0m all_vids \u001b[39m=\u001b[39m [os\u001b[39m.\u001b[39mlistdir(\u001b[39mf\u001b[39m\u001b[39m'\u001b[39m\u001b[39m../\u001b[39m\u001b[39m{\u001b[39;00mfolder_name\u001b[39m}\u001b[39;00m\u001b[39m/videos\u001b[39m\u001b[39m'\u001b[39m) \u001b[39mfor\u001b[39;00m folder_name \u001b[39min\u001b[39;00m folder_names]\n\u001b[1;32m      <a href='vscode-notebook-cell:/Users/yoonjaecho/Downloads/images/eda.ipynb#W6sZmlsZQ%3D%3D?line=1'>2</a>\u001b[0m \u001b[39mlen\u001b[39m([vid \u001b[39mfor\u001b[39;00m vid \u001b[39min\u001b[39;00m all_vids \u001b[39mif\u001b[39;00m vid\u001b[39m.\u001b[39mendswith(\u001b[39m'\u001b[39m\u001b[39mF.mp4\u001b[39m\u001b[39m'\u001b[39m)])\n",
      "\u001b[1;32m/Users/yoonjaecho/Downloads/images/eda.ipynb 셀 5\u001b[0m in \u001b[0;36m<listcomp>\u001b[0;34m(.0)\u001b[0m\n\u001b[0;32m----> <a href='vscode-notebook-cell:/Users/yoonjaecho/Downloads/images/eda.ipynb#W6sZmlsZQ%3D%3D?line=0'>1</a>\u001b[0m all_vids \u001b[39m=\u001b[39m [os\u001b[39m.\u001b[39;49mlistdir(\u001b[39mf\u001b[39;49m\u001b[39m'\u001b[39;49m\u001b[39m../\u001b[39;49m\u001b[39m{\u001b[39;49;00mfolder_name\u001b[39m}\u001b[39;49;00m\u001b[39m/videos\u001b[39;49m\u001b[39m'\u001b[39;49m) \u001b[39mfor\u001b[39;00m folder_name \u001b[39min\u001b[39;00m folder_names]\n\u001b[1;32m      <a href='vscode-notebook-cell:/Users/yoonjaecho/Downloads/images/eda.ipynb#W6sZmlsZQ%3D%3D?line=1'>2</a>\u001b[0m \u001b[39mlen\u001b[39m([vid \u001b[39mfor\u001b[39;00m vid \u001b[39min\u001b[39;00m all_vids \u001b[39mif\u001b[39;00m vid\u001b[39m.\u001b[39mendswith(\u001b[39m'\u001b[39m\u001b[39mF.mp4\u001b[39m\u001b[39m'\u001b[39m)])\n",
      "\u001b[0;31mFileNotFoundError\u001b[0m: [Errno 2] No such file or directory: '../aihub_real1/videos'"
     ]
    }
   ],
   "source": [
    "all_vids = [os.listdir(f'../{folder_name}/videos') for folder_name in folder_names]\n",
    "len([vid for vid in all_vids if vid.endswith('F.mp4')])"
   ]
  },
  {
   "cell_type": "code",
   "execution_count": null,
   "metadata": {},
   "outputs": [],
   "source": [
    "def show_frames(vid_name):\n",
    "    # Open the video\n",
    "    video = cv2.VideoCapture(os.path.join(\"videos\",vid_name +\".mp4\"))\n",
    "\n",
    "    # Get the total number of frames\n",
    "    total_frames = int(video.get(cv2.CAP_PROP_FRAME_COUNT))\n",
    "\n",
    "    # Iterate through each frame\n",
    "    for i in range(total_frames):\n",
    "        # Read the frame\n",
    "        ret, frame = video.read()\n",
    "        if not ret:\n",
    "            break\n",
    "        cv2.imshow(f'Frame #{i}', frame)\n",
    "        if cv2.waitKey(0) & 0xFF == ord('n'):\n",
    "            cv2.destroyAllWindows()\n",
    "            continue\n",
    "        \n",
    "    cv2.destroyAllWindows()\n",
    "\n",
    "\n",
    "    # Release the video\n",
    "    video.release()"
   ]
  },
  {
   "cell_type": "code",
   "execution_count": null,
   "metadata": {},
   "outputs": [],
   "source": [
    "show_frames('NIA_SL_SEN1512_SYN06_F')"
   ]
  }
 ],
 "metadata": {
  "kernelspec": {
   "display_name": "base",
   "language": "python",
   "name": "python3"
  },
  "language_info": {
   "codemirror_mode": {
    "name": "ipython",
    "version": 3
   },
   "file_extension": ".py",
   "mimetype": "text/x-python",
   "name": "python",
   "nbconvert_exporter": "python",
   "pygments_lexer": "ipython3",
   "version": "3.9.12"
  },
  "orig_nbformat": 4,
  "vscode": {
   "interpreter": {
    "hash": "563f2d050712a2640409ca3398cacfdae2e87cb39d38876c954d5eb88b063e14"
   }
  }
 },
 "nbformat": 4,
 "nbformat_minor": 2
}
