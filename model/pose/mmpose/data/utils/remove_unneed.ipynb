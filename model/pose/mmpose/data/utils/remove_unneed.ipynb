{
 "cells": [
  {
   "cell_type": "code",
   "execution_count": 2,
   "metadata": {},
   "outputs": [],
   "source": [
    "import os\n"
   ]
  },
  {
   "cell_type": "code",
   "execution_count": 3,
   "metadata": {},
   "outputs": [],
   "source": []
  },
  {
   "cell_type": "code",
   "execution_count": 4,
   "metadata": {},
   "outputs": [
    {
     "data": {
      "text/plain": [
       "20"
      ]
     },
     "execution_count": 4,
     "metadata": {},
     "output_type": "execute_result"
    }
   ],
   "source": [
    "int('0000000020')"
   ]
  },
  {
   "cell_type": "code",
   "execution_count": 5,
   "metadata": {},
   "outputs": [],
   "source": [
    "needed_frames = range(20,111)\n",
    "for ann_folder in ann_folders:\n",
    "    anns = sorted(os.listdir(os.path.join(ann_folders_dir,ann_folder)))\n",
    "    for ann in anns:\n",
    "        if int(ann.split('_')[5]) not in needed_frames:\n",
    "            print(ann.split('_')[5])\n",
    "            print(os.path.join(ann_folders_dir,ann_folder,ann))\n",
    "            os.remove(os.path.join(ann_folders_dir,ann_folder,ann))"
   ]
  },
  {
   "cell_type": "code",
   "execution_count": null,
   "metadata": {},
   "outputs": [],
   "source": []
  },
  {
   "cell_type": "code",
   "execution_count": 18,
   "metadata": {},
   "outputs": [
    {
     "data": {
      "text/plain": [
       "18564"
      ]
     },
     "execution_count": 18,
     "metadata": {},
     "output_type": "execute_result"
    }
   ],
   "source": [
    "total_anns = 0\n",
    "ann_folders_dir = '../aihub/annotations'\n",
    "ann_folders = sorted(os.listdir(ann_folders_dir))\n",
    "for ann_folder in ann_folders:\n",
    "    ann_numbers = len(os.listdir(os.path.join(ann_folders_dir,ann_folder)))\n",
    "    if ann_numbers != 91:\n",
    "        print(ann_folder,ann_numbers)\n",
    "    total_anns += ann_numbers \n",
    "total_anns"
   ]
  },
  {
   "cell_type": "code",
   "execution_count": 19,
   "metadata": {},
   "outputs": [
    {
     "data": {
      "text/plain": [
       "18564"
      ]
     },
     "execution_count": 19,
     "metadata": {},
     "output_type": "execute_result"
    }
   ],
   "source": [
    "total_imgs = 0\n",
    "img_folders = '../aihub/images'\n",
    "for img_folder in os.listdir(img_folders):\n",
    "    img_numbers = len(os.listdir(os.path.join(img_folders,img_folder)))\n",
    "    total_imgs += img_numbers\n",
    "total_imgs"
   ]
  },
  {
   "cell_type": "code",
   "execution_count": null,
   "metadata": {},
   "outputs": [],
   "source": []
  }
 ],
 "metadata": {
  "kernelspec": {
   "display_name": "openmmlab",
   "language": "python",
   "name": "python3"
  },
  "language_info": {
   "codemirror_mode": {
    "name": "ipython",
    "version": 3
   },
   "file_extension": ".py",
   "mimetype": "text/x-python",
   "name": "python",
   "nbconvert_exporter": "python",
   "pygments_lexer": "ipython3",
   "version": "3.8.16"
  },
  "orig_nbformat": 4,
  "vscode": {
   "interpreter": {
    "hash": "f970aae8c359c97046dcfc4e9c1c65f5e3f9cca2a3bef624d88d45c69053e355"
   }
  }
 },
 "nbformat": 4,
 "nbformat_minor": 2
}
